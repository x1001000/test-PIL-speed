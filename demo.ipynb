{
 "cells": [
  {
   "cell_type": "markdown",
   "metadata": {},
   "source": [
    "在 big_3840x2160.jpg 隨機位置貼上 ufo_960x480.png\n",
    "\n",
    "匯出 jpg\n",
    "\n",
    "連續 100 次"
   ]
  },
  {
   "cell_type": "code",
   "execution_count": 1,
   "metadata": {},
   "outputs": [
    {
     "name": "stdout",
     "output_type": "stream",
     "text": [
      "開始:  16:54:21\n",
      "結束:  16:56:53\n"
     ]
    }
   ],
   "source": [
    "N =100\n",
    "from PIL import Image\n",
    "from random import randint\n",
    "from time import strftime\n",
    "with Image.open('ufo_960x480.png') as fg:\n",
    "    print('開始: ', strftime('%X'))\n",
    "    for i in range(N):\n",
    "        with Image.open('big_3840x2160.jpg') as bg:\n",
    "            bg_w, bg_h = bg.size\n",
    "            fg_w, fg_h = fg.size\n",
    "            offset = (randint(0,bg_w)-fg_w//2, randint(0,bg_h)-fg_h//2)\n",
    "            bg.paste(fg, offset, fg)\n",
    "            bg.save('OUT-'+str(i)+'.jpg')\n",
    "    print('結束: ', strftime('%X'))"
   ]
  },
  {
   "cell_type": "code",
   "execution_count": null,
   "metadata": {
    "collapsed": true
   },
   "outputs": [],
   "source": []
  }
 ],
 "metadata": {
  "kernelspec": {
   "display_name": "Python 3",
   "language": "python",
   "name": "python3"
  },
  "language_info": {
   "codemirror_mode": {
    "name": "ipython",
    "version": 3
   },
   "file_extension": ".py",
   "mimetype": "text/x-python",
   "name": "python",
   "nbconvert_exporter": "python",
   "pygments_lexer": "ipython3",
   "version": "3.6.2"
  }
 },
 "nbformat": 4,
 "nbformat_minor": 2
}
